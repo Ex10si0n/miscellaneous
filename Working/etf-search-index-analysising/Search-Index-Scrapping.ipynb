{
 "cells": [
  {
   "cell_type": "markdown",
   "id": "dated-royal",
   "metadata": {},
   "source": [
    "# ETF-Seach-Index-Analysis\n",
    "\n",
    "## Info\n",
    "\n",
    "### Intention\n",
    "\n",
    "Estimating the correlation between search engine index of funds and equity fund price.\n",
    "\n",
    "### Resources\n",
    "\n",
    "- Search engine index: from Baidu\n",
    "[http://index.baidu.com/v2/main/index.html#/trend](http://index.baidu.com/v2/main/index.html#/trend)\n",
    "\n",
    "## Scrapping\n",
    "\n",
    "1. Analysing HTML\n",
    "\n",
    "We can see that a `GET` method and four parameters\n",
    "\n",
    "- `area`\n",
    "- `word`\n",
    "- `startDate`\n",
    "- `endDate`\n",
    "\n",
    "![](assets/Analysing-HTML.png)\n",
    "\n",
    "in data **Preview**, we have `uniqid` and parameters under `userIndexes` which are `all`, `pc`, `wise`\n",
    "\n",
    "- `all` for all devices\n",
    "- `pc` for PC devices\n",
    "- `wise` for Mobile devices\n",
    "\n",
    "![](assets/Parameters.png)\n",
    "\n",
    "data in `all` is what I need.\n",
    "\n",
    "`data` contains encrypted data, for decryption, we can check `.js`\n",
    "\n",
    "Next is for finding that `.js` file\n",
    "\n",
    "![](assets/Finding-js.png)\n",
    "\n",
    "And I found a `decrypt()` method, maybe it will helpful.\n",
    "\n",
    "![](assets/Founded.png)\n",
    "\n",
    "We see that in `decrypt(t, e)` there are the two parameters `t` and `e`\n",
    "\n",
    "Here is the JavaScript Code\n",
    "\n",
    "```javascript\n",
    "decrypt: function(t, e) {\n",
    "            if (t) {\n",
    "                for (var n = t.split(\"\"), i = e.split(\"\"), a = {}, r = [], o = 0; o < n.length / 2; o++)\n",
    "                    a[n[o]] = n[n.length / 2 + o];\n",
    "                for (var s = 0; s < e.length; s++)\n",
    "                    r.push(a[i[s]]);\n",
    "                return r.join(\"\")\n",
    "            }\n",
    "        }\n",
    "```\n",
    "\n",
    "Analysing this code:\n",
    "\n",
    "**First for loop** splitting `t` return lists to `n`, then splitting `e` return lists to `i` whereas `a` is a dictionary and `r` is a list. Loop in length of `t` times with `t[i]` as key of `a`. value of `a[t[i]]` actually is the index `a[n[o]] = n[n.length / 2 + o]`\n",
    "\n",
    "**Second for loop** traversal `e`, save result into `r`\n",
    "\n",
    "**Function Return** `r`\n",
    "\n",
    "Written in Python:"
   ]
  },
  {
   "cell_type": "code",
   "execution_count": 2,
   "id": "hungry-modification",
   "metadata": {},
   "outputs": [],
   "source": [
    "def decrypt(t,e):\n",
    "    n = list(t)\n",
    "    i = list(e)\n",
    "    a = {}\n",
    "    result = []\n",
    "    ln = int(len(n)/2)\n",
    "    start = n[ln:]\n",
    "    end = n[:ln]\n",
    "    for j,k in zip(start, end):\n",
    "        a.update({k: j})\n",
    "    for j in e:\n",
    "        result.append(a.get(j))\n",
    "    return ''.join(result)"
   ]
  },
  {
   "cell_type": "markdown",
   "id": "hispanic-amendment",
   "metadata": {},
   "source": [
    "Then using breakpoint in JavaScript, input a new date parameter in the website to activate breakpoint.\n",
    "\n",
    "We get parameter `e` and `t` which in `decrypt(t, e)` method\n",
    "\n",
    "![](assets/Breakpoint.png)"
   ]
  },
  {
   "cell_type": "code",
   "execution_count": 3,
   "id": "described-mirror",
   "metadata": {},
   "outputs": [],
   "source": [
    "e = \"%WjQQi%QH%3i%44W3i%Ww4Qi3N3jiN%4Nij%kwi%%w4Wi%%3WQi%%WWki%4%QHiNwjNiNQw4ikH3ji4%3%QiQWWH%iQ4QWNi4NW3ki4kN%4i%QW4Ni%WwQ4i4WjWNi4%44wi4QjHWi4WQ%4i%NNwki3wN4ik3Hki%kW3Wi%kjHj\"\n",
    "t = \"4%NjQIw3eW+Hikq21863.59-0+4,7%\""
   ]
  },
  {
   "cell_type": "code",
   "execution_count": 18,
   "id": "banned-investor",
   "metadata": {},
   "outputs": [
    {
     "name": "stdout",
     "output_type": "stream",
     "text": [
      "[10633, 13419, 12209, 10523, 9896, 8128, 6175, 11520, 11903, 11007, 12134, 8568, 8352, 7496, 21913, 30041, 32308, 28097, 27812, 13028, 10532, 20608, 21225, 23640, 20312, 18857, 9582, 7947, 17090, 17646]\n"
     ]
    }
   ],
   "source": [
    "# Run the Python function with parameters e and t we got from browser.\n",
    "raw_data = decrypt(t, e)\n",
    "str_data = raw_data.split(',')\n",
    "int_data = []\n",
    "for d in data:\n",
    "    int_data.append(int(d))\n",
    "print(int_data)"
   ]
  },
  {
   "cell_type": "markdown",
   "id": "starting-ratio",
   "metadata": {},
   "source": [
    "Fortunately we got the decrypted data and plot it."
   ]
  },
  {
   "cell_type": "code",
   "execution_count": 21,
   "id": "royal-harvey",
   "metadata": {},
   "outputs": [
    {
     "data": {
      "text/plain": [
       "[<matplotlib.lines.Line2D at 0x109c87eb0>]"
      ]
     },
     "execution_count": 21,
     "metadata": {},
     "output_type": "execute_result"
    },
    {
     "data": {
      "image/png": "[encoded data removed]",
      "text/plain": [
       "<Figure size 432x288 with 1 Axes>"
      ]
     },
     "metadata": {
      "needs_background": "light"
     },
     "output_type": "display_data"
    }
   ],
   "source": [
    "import matplotlib.pyplot as plt\n",
    "x = list(range(len(int_data)))\n",
    "y = int_data\n",
    "plt.plot(x, y)"
   ]
  },
  {
   "cell_type": "markdown",
   "id": "atmospheric-catalog",
   "metadata": {},
   "source": [
    "It matches the plot in website!\n",
    "![](assets/Matched.png)"
   ]
  },
  {
   "cell_type": "markdown",
   "id": "hairy-former",
   "metadata": {},
   "source": [
    "For the parameter `t`, it is related to the `uniqid` which I mentioned before. We can get `t` from [http://index.baidu.com/Interface/ptbk?uniqid={}](http://index.baidu.com/Interface/ptbk?uniqid={}), it returns data in `json` format in this structure:\n",
    "\n",
    "```json\n",
    "{\n",
    "    \"status\": STATUS_CODE,\n",
    "    \"data\": PARAM_T,\n",
    "    ...\n",
    "}\n",
    "```\n",
    "\n",
    "## Designing\n",
    "\n",
    "1. Get `uniqid` and `data` through URL\n",
    "2. Get `ptbk.json` using `uniqid`\n",
    "3. Decrypt by `ptbk` and `data` to get the `index_data`"
   ]
  },
  {
   "cell_type": "code",
   "execution_count": 8,
   "id": "supposed-affiliate",
   "metadata": {},
   "outputs": [
    {
     "name": "stdout",
     "output_type": "stream",
     "text": [
      "http://index.baidu.com/api/SearchApi/index?area=0&word=[[%7B\"name\":\"基金\",\"wordType\":1%7D]]&startDate=2015-01-01&endDate=2021-01-20\n",
      "\n",
      "http://index.baidu.com/Interface/ptbk?uniqid=d47d71dc7466160b2ddb78c46df5362d\n"
     ]
    },
    {
     "data": {
      "image/png": "[encoded data removed]",
      "text/plain": [
       "<Figure size 432x288 with 1 Axes>"
      ]
     },
     "metadata": {
      "needs_background": "light"
     },
     "output_type": "display_data"
    }
   ],
   "source": [
    "import requests\n",
    "import sys\n",
    "import time\n",
    "import pandas as pd\n",
    "import numpy as np\n",
    "import datetime\n",
    "\n",
    "\n",
    "class BaiduIndexScrapyer:\n",
    "    \n",
    "    def __init__(self, keyword, start, end, cookies):\n",
    "        self.word_url = 'http://index.baidu.com/api/SearchApi/thumbnail?area=0&word={}'\n",
    "        self.keyword = keyword\n",
    "        self.start = start\n",
    "        self.end = end\n",
    "        self.cookies = cookies\n",
    "    \n",
    "    def decrypt(self, t, e):\n",
    "        n = list(t)\n",
    "        i = list(e)\n",
    "        a = {}\n",
    "        result = []\n",
    "        ln = int(len(n) / 2)\n",
    "        start = n[ln:]\n",
    "        end = n[:ln]\n",
    "        for j, k in zip(start, end):\n",
    "            a.update({k: j})\n",
    "        for j in e:\n",
    "            result.append(a.get(j))\n",
    "        return ''.join(result)\n",
    "\n",
    "\n",
    "    def get_index_home(self, keyword):\n",
    "        headers = {\n",
    "            'User-Agent': 'Mozilla/5.0 (Macintosh; Intel Mac OS X 10_13_6) AppleWebKit/537.36 (KHTML, like Gecko) Chrome/75.0.3770.90 Safari/537.36',\n",
    "            'Cookie': self.cookies\n",
    "        }\n",
    "        word_url = f'http://index.baidu.com/api/SearchApi/thumbnail?area=0&word=[[%7B%22name%22:%22{keyword}%22,%22wordType%22:1%7D]]'\n",
    "        resp = requests.get(word_url, headers=headers)\n",
    "        j = resp.json()\n",
    "\n",
    "        print(j)\n",
    "\n",
    "        uniqid = j.get('data').get('uniqid')\n",
    "        return get_ptbk(uniqid)\n",
    "\n",
    "\n",
    "    def get_ptbk(self, uniqid):\n",
    "        url = 'http://index.baidu.com/Interface/ptbk?uniqid={}'\n",
    "        ptbk_headers = {\n",
    "            'Accept': 'application/json, text/plain, */*',\n",
    "            'Accept-Encoding': 'gzip, deflate',\n",
    "            'Accept-Language': 'zh-CN,zh;q=0.9',\n",
    "            'Cache-Control': 'no-cache',\n",
    "            'Cookie': self.cookies,\n",
    "            'DNT': '1',\n",
    "            'Host': 'index.baidu.com',\n",
    "            'Pragma': 'no-cache',\n",
    "            'Proxy-Connection': 'keep-alive',\n",
    "            'Referer': 'http://index.baidu.com/v2/index.html',\n",
    "            'User-Agent': 'Mozilla/5.0 (Macintosh; Intel Mac OS X 10_13_6) AppleWebKit/537.36 (KHTML, like Gecko) Chrome/75.0.3770.90 Safari/537.36',\n",
    "            'X-Requested-With': 'XMLHttpRequest',\n",
    "        }\n",
    "        print(url.format(uniqid))\n",
    "        resp = requests.get(url.format(uniqid), headers=ptbk_headers)\n",
    "\n",
    "        # HTTP Response failed\n",
    "        if resp.status_code != 200:\n",
    "            print('Failed to get uniqid')\n",
    "            sys.exit(1)\n",
    "\n",
    "        return resp.json().get('data')\n",
    "\n",
    "\n",
    "    def get_index_data(self, keyword, start, end):\n",
    "        url = f'http://index.baidu.com/api/SugApi/sug?inputword[]={keyword}&area=0&startDate={start}&endDate={end}'\n",
    "        word_param = f'[[%7B\"name\":\"{keyword}\",\"wordType\":1%7D]]'\n",
    "        url1 = f'http://index.baidu.com/api/SearchApi/index?area=0&word={word_param}&startDate={start}&endDate={end}'\n",
    "        print(url1 + \"\\n\")\n",
    "        headers = {\n",
    "            'Accept': 'application/json, text/plain, */*',\n",
    "            'Accept-Encoding': 'gzip, deflate',\n",
    "            'Accept-Language': 'zh-CN,zh;q=0.9',\n",
    "            'Cache-Control': 'no-cache',\n",
    "            'Cookie': self.cookies,\n",
    "            'DNT': '1',\n",
    "            'Host': 'index.baidu.com',\n",
    "            'Pragma': 'no-cache',\n",
    "            'Proxy-Connection': 'keep-alive',\n",
    "            'Referer': 'http://index.baidu.com/v2/index.html',\n",
    "            'User-Agent': 'Mozilla/5.0 (Windows NT 10.0; Win64; x64) AppleWebKit/537.36 (KHTML, like Gecko) Chrome/77.0.3865.90 Safari/537.36',\n",
    "            'X-Requested-With': 'XMLHttpRequest',\n",
    "        }\n",
    "\n",
    "        resp = requests.get(url1, headers=headers)\n",
    "\n",
    "        # HTTP Response failed\n",
    "        if resp.status_code != 200:\n",
    "            print('Error happens when fetching index')\n",
    "            sys.exit(1)\n",
    "\n",
    "        data = resp.json().get('data').get('userIndexes')[0]\n",
    "        uniqid = resp.json().get('data').get('uniqid')\n",
    "        ptbk = self.get_ptbk(uniqid)\n",
    "        all_data = data.get('all').get('data')\n",
    "        result = self.decrypt(ptbk, all_data)\n",
    "        result = result.split(',')\n",
    "        return result\n",
    "\n",
    "    def get(self):\n",
    "        str_data = self.get_index_data(keyword=self.keyword, start=self.start, end=self.end)\n",
    "        int_data = []\n",
    "        for d in str_data:\n",
    "            int_data.append(int(d))\n",
    "        return int_data\n",
    "\n",
    "    def plot(self, data):\n",
    "        import matplotlib.pyplot as plt\n",
    "        x = list(range(len(data)))\n",
    "        y = data\n",
    "        plt.plot(x, y)\n",
    "\n",
    "if __name__ == '__main__':\n",
    "    startDate = '2015-01-01'\n",
    "    endDate = datetime.date.today()\n",
    "    keyword = '基金'\n",
    "    cookies = 'BDUSS=npzcndvZWxlYX5KMjg2bXpqOWdzUDQ2SE96Vkt2MlNMZjFaSVhEakpNY0lSeTlnRVFBQUFBJCQAAAAAAAAAAAEAAAANy6Vatv679db30uWBVAAAAAAAAAAAAAAAAAAAAAAAAAAAAAAAAAAAAAAAAAAAAAAAAAAAAAAAAAAAAAAAAAAAAAAAAAi6B2AIugdgV; CHKFORREG=d653076750ed5b3ac7f12752f0cb663d; bdindexid=2s3g96u5kg5d0hit2esila5l80; Hm_lvt_d101ea4d2a5c67dab98251f0b5de24dc=1611123855,1611124055,1611125046,1611125162; Hm_lpvt_d101ea4d2a5c67dab98251f0b5de24dc=1611125913; __yjsv5_shitong=1.0_7_30c41c549108ec4a61f1658b1d80c3d142b4_300_1611125913587_202.86.179.90_c26b5af6; BAIDUID=9C7892480E03E397AA2C4A324AB1A841:FG=1; RT=\"z=1&dm=baidu.com&si=rgjbcrll45&ss=kk4ypmbo&sl=1m&tt=i1s2&bcn=https%3A%2F%2Ffclog.baidu.com%2Flog%2Fweirwood%3Ftype%3Dperf&ld=4jaj7&ul=4u4h4\"'\n",
    "    bis = BaiduIndexScrapyer(keyword, startDate, endDate, cookies)\n",
    "    data = bis.get()\n",
    "    bis.plot(data)"
   ]
  },
  {
   "cell_type": "markdown",
   "id": "antique-haven",
   "metadata": {},
   "source": [
    "## References\n",
    "\n",
    "- https://zhuanlan.zhihu.com/p/78634149\n",
    "- https://zhuanlan.zhihu.com/p/147642620\n",
    "- http://index.baidu.com/v2/index.html"
   ]
  },
  {
   "cell_type": "code",
   "execution_count": null,
   "id": "interim-terry",
   "metadata": {},
   "outputs": [],
   "source": []
  }
 ],
 "metadata": {
  "kernelspec": {
   "display_name": "Python 3",
   "language": "python",
   "name": "python3"
  },
  "language_info": {
   "codemirror_mode": {
    "name": "ipython",
    "version": 3
   },
   "file_extension": ".py",
   "mimetype": "text/x-python",
   "name": "python",
   "nbconvert_exporter": "python",
   "pygments_lexer": "ipython3",
   "version": "3.8.6"
  }
 },
 "nbformat": 4,
 "nbformat_minor": 5
}
