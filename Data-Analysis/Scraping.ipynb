{
 "cells": [
  {
   "cell_type": "code",
   "execution_count": 24,
   "metadata": {},
   "outputs": [],
   "source": [
    "from bs4 import BeautifulSoup as bs\n",
    "import requests\n",
    "import re\n",
    "import json\n",
    "import pandas as pd"
   ]
  },
  {
   "cell_type": "code",
   "execution_count": 91,
   "metadata": {},
   "outputs": [],
   "source": [
    "url_list = \"https://www.charitywatch.org/top-rated-charities\"\n",
    "url_cl = \"https://www.charitywatch.org/ratings-and-metrice/naacp-legal-defense-and-education-fund/18\"\n",
    "page_text = requests.get(url_list).text\n",
    "soup = bs(page_text, 'lxml')"
   ]
  },
  {
   "cell_type": "code",
   "execution_count": 186,
   "metadata": {},
   "outputs": [],
   "source": [
    "charities = soup.find_all(href = re.compile(r'https://www.charitywatch.org/charities'))"
   ]
  },
  {
   "cell_type": "code",
   "execution_count": 187,
   "metadata": {},
   "outputs": [],
   "source": [
    "d = {}"
   ]
  },
  {
   "cell_type": "code",
   "execution_count": 188,
   "metadata": {},
   "outputs": [],
   "source": [
    "# len(charities)\n",
    "for i in range(3, 10):\n",
    "    sample = charities[i]\n",
    "    sample['href']\n",
    "    name = sample.text\n",
    "    sample_url = sample['href']\n",
    "    charity_page = requests.get(sample_url).text\n",
    "    bs_charity_page = bs(charity_page, 'lxml')\n",
    "    t = bs_charity_page.find_all(class_ = 'mb-2')\n",
    "    fund = t[7].text\n",
    "    d[name] = fund"
   ]
  },
  {
   "cell_type": "code",
   "execution_count": 189,
   "metadata": {},
   "outputs": [
    {
     "data": {
      "text/plain": [
       "{'NAACP Legal Defense and Educational Fund': '$31,000,000',\n",
       " 'National Urban League (National Office)': '$19,000,000',\n",
       " 'Elizabeth Glaser Pediatric AIDS Foundation': '$22,000,000',\n",
       " 'Foundation for AIDS Research (amfAR)': '$35,000,000',\n",
       " 'American Indian College Fund': '$21,000,000',\n",
       " 'Native American Rights Fund': '$27,000,000',\n",
       " 'American Humane': '$12,000,000'}"
      ]
     },
     "execution_count": 189,
     "metadata": {},
     "output_type": "execute_result"
    }
   ],
   "source": [
    "d"
   ]
  },
  {
   "cell_type": "code",
   "execution_count": 190,
   "metadata": {},
   "outputs": [],
   "source": [
    "Table = pd.DataFrame([d])"
   ]
  },
  {
   "cell_type": "code",
   "execution_count": 191,
   "metadata": {},
   "outputs": [],
   "source": [
    "Table.transpose().to_csv(\"Total_Calculated_Expense.csv\")"
   ]
  },
  {
   "cell_type": "code",
   "execution_count": null,
   "metadata": {},
   "outputs": [],
   "source": []
  }
 ],
 "metadata": {
  "kernelspec": {
   "display_name": "Python 3",
   "language": "python",
   "name": "python3"
  },
  "language_info": {
   "codemirror_mode": {
    "name": "ipython",
    "version": 3
   },
   "file_extension": ".py",
   "mimetype": "text/x-python",
   "name": "python",
   "nbconvert_exporter": "python",
   "pygments_lexer": "ipython3",
   "version": "3.8.3"
  }
 },
 "nbformat": 4,
 "nbformat_minor": 4
}
