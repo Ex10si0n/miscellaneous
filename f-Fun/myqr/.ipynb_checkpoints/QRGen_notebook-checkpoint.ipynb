{
 "cells": [
  {
   "cell_type": "code",
   "execution_count": 2,
   "metadata": {},
   "outputs": [
    {
     "name": "stdout",
     "output_type": "stream",
     "text": [
      "line 16: mode: byte\n"
     ]
    },
    {
     "data": {
      "text/plain": [
       "(3, 'H', '/Users/ex10si0n/Desktop/myqr/qr.png')"
      ]
     },
     "execution_count": 2,
     "metadata": {},
     "output_type": "execute_result"
    }
   ],
   "source": [
    "from MyQR import myqr\n",
    "myqr.run(\n",
    "    words='https://aspire.studio',\n",
    "    colorized=True,\n",
    "    save_name='qr.png'\n",
    ")"
   ]
  },
  {
   "cell_type": "code",
   "execution_count": null,
   "metadata": {},
   "outputs": [],
   "source": [
    "from MyQR import myqr\n",
    "import os\n",
    " \n",
    "version, level, qr_name = myqr.run(\n",
    "    words=\"https://u.wechat.com/EKKGxVulFZU07pTVjfmjUdQ\",\n",
    "    version=1,\n",
    "    level='H',\n",
    "    picture=\"yzb.jpeg\",\n",
    "    colorized=True,\n",
    "    contrast=1.0,\n",
    "    brightness=1.0,\n",
    "    save_name=\"yzb_qr.jpeg\",\n",
    "    save_dir=os.getcwd()\n",
    ")"
   ]
  }
 ],
 "metadata": {
  "kernelspec": {
   "display_name": "Python 3",
   "language": "python",
   "name": "python3"
  },
  "language_info": {
   "codemirror_mode": {
    "name": "ipython",
    "version": 3
   },
   "file_extension": ".py",
   "mimetype": "text/x-python",
   "name": "python",
   "nbconvert_exporter": "python",
   "pygments_lexer": "ipython3",
   "version": "3.7.6"
  }
 },
 "nbformat": 4,
 "nbformat_minor": 4
}
