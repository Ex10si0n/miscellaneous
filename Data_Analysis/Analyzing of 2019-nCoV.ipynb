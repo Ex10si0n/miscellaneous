{
 "cells": [
  {
   "cell_type": "markdown",
   "metadata": {},
   "source": [
    "# SIR Model\n",
    "For computing the theoretical number of people infected with a contagious illness in a closed population over time."
   ]
  },
  {
   "cell_type": "code",
   "execution_count": 14,
   "metadata": {},
   "outputs": [],
   "source": [
    "import numpy as np\n",
    "import matplotlib.pyplot as plt"
   ]
  },
  {
   "cell_type": "code",
   "execution_count": 15,
   "metadata": {},
   "outputs": [],
   "source": [
    "# Population Data:\n",
    "begin = (30000000, 100)\n",
    "# Except Hubei begin = (27000, 10)\n",
    "# Only Hubei begin = (125000, 10)"
   ]
  },
  {
   "cell_type": "code",
   "execution_count": 16,
   "metadata": {},
   "outputs": [],
   "source": [
    "# SIR model\n",
    "\n",
    "DAYS = 200\n",
    "\n",
    "check = begin\n",
    "#contact rate\n",
    "lamda = 0.7\n",
    "#recover and death rate\n",
    "gamma = 0.5\n",
    "#lamda = 0.7, gamma = 0.2\n",
    "\n",
    "POPULATION, suscept = check\n",
    "susceptiable_ratio = np.zeros([DAYS])\n",
    "infective_ratio = np.zeros([DAYS])\n",
    "remove_ratio = np.zeros([DAYS])\n",
    "infective_ratio[0] = suscept / POPULATION\n",
    "susceptiable_ratio[0] = 1\n",
    "\n",
    "for day in range(DAYS - 1):\n",
    "    \n",
    "    infective_ratio[day + 1] = infective_ratio[day] + \\\n",
    "    infective_ratio[day] * lamda * susceptiable_ratio[day]\\\n",
    "    - gamma * infective_ratio[day]\n",
    "    \n",
    "    susceptiable_ratio[day + 1] = susceptiable_ratio[day] - \\\n",
    "    lamda * susceptiable_ratio[day] * infective_ratio[day]\n",
    "    \n",
    "    remove_ratio[day + 1] = remove_ratio[day] + \\\n",
    "    gamma * infective_ratio[day]\n",
    "    \n",
    "    "
   ]
  },
  {
   "cell_type": "code",
   "execution_count": 17,
   "metadata": {},
   "outputs": [
    {
     "data": {
      "text/plain": [
       "<matplotlib.legend.Legend at 0x11a38cc50>"
      ]
     },
     "execution_count": 17,
     "metadata": {},
     "output_type": "execute_result"
    },
    {
     "data": {
      "image/png": "[encoded data removed]",
      "text/plain": [
       "<Figure size 576x360 with 1 Axes>"
      ]
     },
     "metadata": {
      "needs_background": "light"
     },
     "output_type": "display_data"
    }
   ],
   "source": [
    "\n",
    "fig, ax = plt.subplots(figsize=(8, 5))\n",
    "\n",
    "# ax.plot(susceptiable_ratio * POPULATION, c='b', lw=2, label='susceptiable')\n",
    "ax.plot(infective_ratio * POPULATION, c='r', lw=2, label='infective')\n",
    "# ax.plot(remove_ratio * POPULATION, c='g', lw=2, label='remove')\n",
    "\n",
    "ax.set_xlabel('Day',fontsize=12)\n",
    "ax.set_ylabel('Infective',fontsize=12)\n",
    "ax.grid(1)\n",
    "plt.xticks(fontsize=12)\n",
    "plt.yticks(fontsize=12)\n",
    "plt.legend()"
   ]
  },
  {
   "cell_type": "code",
   "execution_count": null,
   "metadata": {},
   "outputs": [],
   "source": []
  },
  {
   "cell_type": "code",
   "execution_count": null,
   "metadata": {},
   "outputs": [],
   "source": []
  },
  {
   "cell_type": "code",
   "execution_count": null,
   "metadata": {},
   "outputs": [],
   "source": []
  }
 ],
 "metadata": {
  "kernelspec": {
   "display_name": "Python 3",
   "language": "python",
   "name": "python3"
  },
  "language_info": {
   "codemirror_mode": {
    "name": "ipython",
    "version": 3
   },
   "file_extension": ".py",
   "mimetype": "text/x-python",
   "name": "python",
   "nbconvert_exporter": "python",
   "pygments_lexer": "ipython3",
   "version": "3.7.4"
  }
 },
 "nbformat": 4,
 "nbformat_minor": 2
}
